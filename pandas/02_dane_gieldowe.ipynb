{
  "nbformat": 4,
  "nbformat_minor": 0,
  "metadata": {
    "colab": {
      "provenance": [],
      "collapsed_sections": [],
      "authorship_tag": "ABX9TyN91ymRg9BjHFo8TP5creUL",
      "include_colab_link": true
    },
    "kernelspec": {
      "name": "python3",
      "display_name": "Python 3"
    },
    "language_info": {
      "name": "python"
    }
  },
  "cells": [
    {
      "cell_type": "markdown",
      "metadata": {
        "id": "view-in-github",
        "colab_type": "text"
      },
      "source": [
        "<a href=\"https://colab.research.google.com/github/angon1/ds_az/blob/main/pandas/02_dane_gieldowe.ipynb\" target=\"_parent\"><img src=\"https://colab.research.google.com/assets/colab-badge.svg\" alt=\"Open In Colab\"/></a>"
      ]
    },
    {
      "cell_type": "code",
      "execution_count": null,
      "metadata": {
        "id": "uGbsTz3IQTyW"
      },
      "outputs": [],
      "source": [
        "import numpy as np\n",
        "import pandas as pd\n",
        "import pandas_datareader.data as pd_web"
      ]
    },
    {
      "cell_type": "code",
      "source": [
        "# data import\n",
        "def fetch_financial_data(company = 'AMZN'):\n",
        "    return pd_web.DataReader(name=company, data_source='stooq')\n",
        "\n",
        "df = fetch_financial_data()\n",
        "df.info()"
      ],
      "metadata": {
        "colab": {
          "base_uri": "https://localhost:8080/"
        },
        "id": "vw81w6L_QkXW",
        "outputId": "05bc4e81-8d35-468f-a7b4-420a2576b3cf"
      },
      "execution_count": null,
      "outputs": [
        {
          "output_type": "stream",
          "name": "stdout",
          "text": [
            "<class 'pandas.core.frame.DataFrame'>\n",
            "DatetimeIndex: 1258 entries, 2022-10-14 to 2017-10-17\n",
            "Data columns (total 5 columns):\n",
            " #   Column  Non-Null Count  Dtype  \n",
            "---  ------  --------------  -----  \n",
            " 0   Open    1258 non-null   float64\n",
            " 1   High    1258 non-null   float64\n",
            " 2   Low     1258 non-null   float64\n",
            " 3   Close   1258 non-null   float64\n",
            " 4   Volume  1258 non-null   int64  \n",
            "dtypes: float64(4), int64(1)\n",
            "memory usage: 59.0 KB\n"
          ]
        }
      ]
    },
    {
      "cell_type": "code",
      "source": [
        "df"
      ],
      "metadata": {
        "id": "Ef4aMa2aRKBH"
      },
      "execution_count": null,
      "outputs": []
    },
    {
      "cell_type": "code",
      "source": [
        "df.head(10)"
      ],
      "metadata": {
        "id": "S2WzJBR0RVuu"
      },
      "execution_count": null,
      "outputs": []
    },
    {
      "cell_type": "code",
      "source": [
        "df.columns = [col.lower() for col in df.columns]"
      ],
      "metadata": {
        "id": "i4wl7n4gRmt2"
      },
      "execution_count": null,
      "outputs": []
    },
    {
      "cell_type": "code",
      "source": [
        "df"
      ],
      "metadata": {
        "id": "te9hMA4PR73H"
      },
      "execution_count": null,
      "outputs": []
    },
    {
      "cell_type": "code",
      "source": [
        "df.describe()"
      ],
      "metadata": {
        "id": "9KdBSU-0R9Mu"
      },
      "execution_count": null,
      "outputs": []
    },
    {
      "cell_type": "code",
      "source": [
        "df.T.describe()"
      ],
      "metadata": {
        "id": "RnJ6djsUSD4u"
      },
      "execution_count": null,
      "outputs": []
    },
    {
      "cell_type": "code",
      "source": [
        "df.open"
      ],
      "metadata": {
        "id": "SunJ6cKySG92"
      },
      "execution_count": null,
      "outputs": []
    },
    {
      "cell_type": "code",
      "source": [
        "df = df.head(10)"
      ],
      "metadata": {
        "id": "VDWNdJNqSN-X"
      },
      "execution_count": null,
      "outputs": []
    },
    {
      "cell_type": "code",
      "source": [
        "df[['open', 'close']]"
      ],
      "metadata": {
        "id": "UVGtoLBjSPyG"
      },
      "execution_count": null,
      "outputs": []
    },
    {
      "cell_type": "code",
      "source": [
        "df.iloc[:, 1:3]"
      ],
      "metadata": {
        "id": "RMgHQxdSSZIu"
      },
      "execution_count": null,
      "outputs": []
    },
    {
      "cell_type": "code",
      "source": [
        "df.iloc[0]"
      ],
      "metadata": {
        "id": "n-Jniv_zSmP-"
      },
      "execution_count": null,
      "outputs": []
    },
    {
      "cell_type": "code",
      "source": [
        "df.iloc[:3]"
      ],
      "metadata": {
        "id": "kbo8JhRVTHDf"
      },
      "execution_count": null,
      "outputs": []
    },
    {
      "cell_type": "code",
      "source": [
        "df.loc['2022-10-03':'2022-10-06']"
      ],
      "metadata": {
        "id": "hbOCoLnqTLPf"
      },
      "execution_count": null,
      "outputs": []
    },
    {
      "cell_type": "code",
      "source": [
        "df = fetch_financial_data('UBER')\n",
        "df['Average'] = (df.Open + df.Close) /2\n",
        "df = df.sort_index()\n",
        "df.head()"
      ],
      "metadata": {
        "id": "_O0IB4tfTQ0G"
      },
      "execution_count": null,
      "outputs": []
    },
    {
      "cell_type": "code",
      "source": [
        "df['Close_shift'] = df.Close.shift(1)"
      ],
      "metadata": {
        "id": "1stSGqjOPaTw"
      },
      "execution_count": null,
      "outputs": []
    },
    {
      "cell_type": "code",
      "source": [
        "df['percentage_change'] = df.Close/df.Close.shift(1) -1\n",
        "df['daily_change'] = df.Close / df.Close_shift -1\n",
        "df.head()"
      ],
      "metadata": {
        "colab": {
          "base_uri": "https://localhost:8080/",
          "height": 238
        },
        "id": "JfJEJqlEPsfv",
        "outputId": "4fa6a170-5fe4-44f9-c7d0-f44bfd23f657"
      },
      "execution_count": null,
      "outputs": [
        {
          "output_type": "execute_result",
          "data": {
            "text/plain": [
              "             Open   High    Low  Close     Volume  Average  Close_shift  \\\n",
              "Date                                                                      \n",
              "2019-05-10  42.00  45.00  41.06  41.57  186322536   41.785          NaN   \n",
              "2019-05-13  38.79  39.24  36.08  37.10   79442420   37.945        41.57   \n",
              "2019-05-14  38.31  39.96  36.85  39.96   46661147   39.135        37.10   \n",
              "2019-05-15  39.37  41.88  38.95  41.29   36086065   40.330        39.96   \n",
              "2019-05-16  41.48  44.06  41.25  43.00   38115524   42.240        41.29   \n",
              "\n",
              "            percentage change  daily change  percentage_change  daily_change  \n",
              "Date                                                                          \n",
              "2019-05-10                NaN           NaN                NaN           NaN  \n",
              "2019-05-13          -0.107529     -0.107529          -0.107529     -0.107529  \n",
              "2019-05-14           0.077089      0.077089           0.077089      0.077089  \n",
              "2019-05-15           0.033283      0.033283           0.033283      0.033283  \n",
              "2019-05-16           0.041414      0.041414           0.041414      0.041414  "
            ],
            "text/html": [
              "\n",
              "  <div id=\"df-5e89b5ef-e71d-4c38-bed1-3538f1ecfba6\">\n",
              "    <div class=\"colab-df-container\">\n",
              "      <div>\n",
              "<style scoped>\n",
              "    .dataframe tbody tr th:only-of-type {\n",
              "        vertical-align: middle;\n",
              "    }\n",
              "\n",
              "    .dataframe tbody tr th {\n",
              "        vertical-align: top;\n",
              "    }\n",
              "\n",
              "    .dataframe thead th {\n",
              "        text-align: right;\n",
              "    }\n",
              "</style>\n",
              "<table border=\"1\" class=\"dataframe\">\n",
              "  <thead>\n",
              "    <tr style=\"text-align: right;\">\n",
              "      <th></th>\n",
              "      <th>Open</th>\n",
              "      <th>High</th>\n",
              "      <th>Low</th>\n",
              "      <th>Close</th>\n",
              "      <th>Volume</th>\n",
              "      <th>Average</th>\n",
              "      <th>Close_shift</th>\n",
              "      <th>percentage change</th>\n",
              "      <th>daily change</th>\n",
              "      <th>percentage_change</th>\n",
              "      <th>daily_change</th>\n",
              "    </tr>\n",
              "    <tr>\n",
              "      <th>Date</th>\n",
              "      <th></th>\n",
              "      <th></th>\n",
              "      <th></th>\n",
              "      <th></th>\n",
              "      <th></th>\n",
              "      <th></th>\n",
              "      <th></th>\n",
              "      <th></th>\n",
              "      <th></th>\n",
              "      <th></th>\n",
              "      <th></th>\n",
              "    </tr>\n",
              "  </thead>\n",
              "  <tbody>\n",
              "    <tr>\n",
              "      <th>2019-05-10</th>\n",
              "      <td>42.00</td>\n",
              "      <td>45.00</td>\n",
              "      <td>41.06</td>\n",
              "      <td>41.57</td>\n",
              "      <td>186322536</td>\n",
              "      <td>41.785</td>\n",
              "      <td>NaN</td>\n",
              "      <td>NaN</td>\n",
              "      <td>NaN</td>\n",
              "      <td>NaN</td>\n",
              "      <td>NaN</td>\n",
              "    </tr>\n",
              "    <tr>\n",
              "      <th>2019-05-13</th>\n",
              "      <td>38.79</td>\n",
              "      <td>39.24</td>\n",
              "      <td>36.08</td>\n",
              "      <td>37.10</td>\n",
              "      <td>79442420</td>\n",
              "      <td>37.945</td>\n",
              "      <td>41.57</td>\n",
              "      <td>-0.107529</td>\n",
              "      <td>-0.107529</td>\n",
              "      <td>-0.107529</td>\n",
              "      <td>-0.107529</td>\n",
              "    </tr>\n",
              "    <tr>\n",
              "      <th>2019-05-14</th>\n",
              "      <td>38.31</td>\n",
              "      <td>39.96</td>\n",
              "      <td>36.85</td>\n",
              "      <td>39.96</td>\n",
              "      <td>46661147</td>\n",
              "      <td>39.135</td>\n",
              "      <td>37.10</td>\n",
              "      <td>0.077089</td>\n",
              "      <td>0.077089</td>\n",
              "      <td>0.077089</td>\n",
              "      <td>0.077089</td>\n",
              "    </tr>\n",
              "    <tr>\n",
              "      <th>2019-05-15</th>\n",
              "      <td>39.37</td>\n",
              "      <td>41.88</td>\n",
              "      <td>38.95</td>\n",
              "      <td>41.29</td>\n",
              "      <td>36086065</td>\n",
              "      <td>40.330</td>\n",
              "      <td>39.96</td>\n",
              "      <td>0.033283</td>\n",
              "      <td>0.033283</td>\n",
              "      <td>0.033283</td>\n",
              "      <td>0.033283</td>\n",
              "    </tr>\n",
              "    <tr>\n",
              "      <th>2019-05-16</th>\n",
              "      <td>41.48</td>\n",
              "      <td>44.06</td>\n",
              "      <td>41.25</td>\n",
              "      <td>43.00</td>\n",
              "      <td>38115524</td>\n",
              "      <td>42.240</td>\n",
              "      <td>41.29</td>\n",
              "      <td>0.041414</td>\n",
              "      <td>0.041414</td>\n",
              "      <td>0.041414</td>\n",
              "      <td>0.041414</td>\n",
              "    </tr>\n",
              "  </tbody>\n",
              "</table>\n",
              "</div>\n",
              "      <button class=\"colab-df-convert\" onclick=\"convertToInteractive('df-5e89b5ef-e71d-4c38-bed1-3538f1ecfba6')\"\n",
              "              title=\"Convert this dataframe to an interactive table.\"\n",
              "              style=\"display:none;\">\n",
              "        \n",
              "  <svg xmlns=\"http://www.w3.org/2000/svg\" height=\"24px\"viewBox=\"0 0 24 24\"\n",
              "       width=\"24px\">\n",
              "    <path d=\"M0 0h24v24H0V0z\" fill=\"none\"/>\n",
              "    <path d=\"M18.56 5.44l.94 2.06.94-2.06 2.06-.94-2.06-.94-.94-2.06-.94 2.06-2.06.94zm-11 1L8.5 8.5l.94-2.06 2.06-.94-2.06-.94L8.5 2.5l-.94 2.06-2.06.94zm10 10l.94 2.06.94-2.06 2.06-.94-2.06-.94-.94-2.06-.94 2.06-2.06.94z\"/><path d=\"M17.41 7.96l-1.37-1.37c-.4-.4-.92-.59-1.43-.59-.52 0-1.04.2-1.43.59L10.3 9.45l-7.72 7.72c-.78.78-.78 2.05 0 2.83L4 21.41c.39.39.9.59 1.41.59.51 0 1.02-.2 1.41-.59l7.78-7.78 2.81-2.81c.8-.78.8-2.07 0-2.86zM5.41 20L4 18.59l7.72-7.72 1.47 1.35L5.41 20z\"/>\n",
              "  </svg>\n",
              "      </button>\n",
              "      \n",
              "  <style>\n",
              "    .colab-df-container {\n",
              "      display:flex;\n",
              "      flex-wrap:wrap;\n",
              "      gap: 12px;\n",
              "    }\n",
              "\n",
              "    .colab-df-convert {\n",
              "      background-color: #E8F0FE;\n",
              "      border: none;\n",
              "      border-radius: 50%;\n",
              "      cursor: pointer;\n",
              "      display: none;\n",
              "      fill: #1967D2;\n",
              "      height: 32px;\n",
              "      padding: 0 0 0 0;\n",
              "      width: 32px;\n",
              "    }\n",
              "\n",
              "    .colab-df-convert:hover {\n",
              "      background-color: #E2EBFA;\n",
              "      box-shadow: 0px 1px 2px rgba(60, 64, 67, 0.3), 0px 1px 3px 1px rgba(60, 64, 67, 0.15);\n",
              "      fill: #174EA6;\n",
              "    }\n",
              "\n",
              "    [theme=dark] .colab-df-convert {\n",
              "      background-color: #3B4455;\n",
              "      fill: #D2E3FC;\n",
              "    }\n",
              "\n",
              "    [theme=dark] .colab-df-convert:hover {\n",
              "      background-color: #434B5C;\n",
              "      box-shadow: 0px 1px 3px 1px rgba(0, 0, 0, 0.15);\n",
              "      filter: drop-shadow(0px 1px 2px rgba(0, 0, 0, 0.3));\n",
              "      fill: #FFFFFF;\n",
              "    }\n",
              "  </style>\n",
              "\n",
              "      <script>\n",
              "        const buttonEl =\n",
              "          document.querySelector('#df-5e89b5ef-e71d-4c38-bed1-3538f1ecfba6 button.colab-df-convert');\n",
              "        buttonEl.style.display =\n",
              "          google.colab.kernel.accessAllowed ? 'block' : 'none';\n",
              "\n",
              "        async function convertToInteractive(key) {\n",
              "          const element = document.querySelector('#df-5e89b5ef-e71d-4c38-bed1-3538f1ecfba6');\n",
              "          const dataTable =\n",
              "            await google.colab.kernel.invokeFunction('convertToInteractive',\n",
              "                                                     [key], {});\n",
              "          if (!dataTable) return;\n",
              "\n",
              "          const docLinkHtml = 'Like what you see? Visit the ' +\n",
              "            '<a target=\"_blank\" href=https://colab.research.google.com/notebooks/data_table.ipynb>data table notebook</a>'\n",
              "            + ' to learn more about interactive tables.';\n",
              "          element.innerHTML = '';\n",
              "          dataTable['output_type'] = 'display_data';\n",
              "          await google.colab.output.renderOutput(dataTable, element);\n",
              "          const docLink = document.createElement('div');\n",
              "          docLink.innerHTML = docLinkHtml;\n",
              "          element.appendChild(docLink);\n",
              "        }\n",
              "      </script>\n",
              "    </div>\n",
              "  </div>\n",
              "  "
            ]
          },
          "metadata": {},
          "execution_count": 18
        }
      ]
    },
    {
      "cell_type": "code",
      "source": [
        "df['daily_change'].hist(bins=100)"
      ],
      "metadata": {
        "colab": {
          "base_uri": "https://localhost:8080/",
          "height": 285
        },
        "id": "QveFihjXSuyz",
        "outputId": "257af0be-b333-4dd7-a6bd-a5cdf3910fdf"
      },
      "execution_count": null,
      "outputs": [
        {
          "output_type": "execute_result",
          "data": {
            "text/plain": [
              "<matplotlib.axes._subplots.AxesSubplot at 0x7f4d1a5af350>"
            ]
          },
          "metadata": {},
          "execution_count": 19
        },
        {
          "output_type": "display_data",
          "data": {
            "text/plain": [
              "<Figure size 432x288 with 1 Axes>"
            ],
            "image/png": "[encoded data removed]"
          },
          "metadata": {}
        }
      ]
    },
    {
      "cell_type": "code",
      "source": [
        "import seaborn as sns\n",
        "sns.set()\n",
        "df['daily_change'].hist(bins=100)"
      ],
      "metadata": {
        "colab": {
          "base_uri": "https://localhost:8080/",
          "height": 285
        },
        "id": "G7iD5WsrTAVZ",
        "outputId": "07806a64-2884-4473-9d5c-05a1d9bb65fe"
      },
      "execution_count": null,
      "outputs": [
        {
          "output_type": "execute_result",
          "data": {
            "text/plain": [
              "<matplotlib.axes._subplots.AxesSubplot at 0x7f4d1a459c50>"
            ]
          },
          "metadata": {},
          "execution_count": 20
        },
        {
          "output_type": "display_data",
          "data": {
            "text/plain": [
              "<Figure size 432x288 with 1 Axes>"
            ],
            "image/png": "[encoded data removed]"
          },
          "metadata": {}
        }
      ]
    },
    {
      "cell_type": "code",
      "source": [
        "df[df.daily_change > 0]\n"
      ],
      "metadata": {
        "colab": {
          "base_uri": "https://localhost:8080/",
          "height": 455
        },
        "id": "XYuDdR7_TpI7",
        "outputId": "18f3f348-0084-4396-8255-71bf99d6c617"
      },
      "execution_count": null,
      "outputs": [
        {
          "output_type": "execute_result",
          "data": {
            "text/plain": [
              "              Open    High      Low  Close    Volume  Average  Close_shift  \\\n",
              "Date                                                                         \n",
              "2019-05-14  38.310  39.960  36.8500  39.96  46661147  39.1350        37.10   \n",
              "2019-05-15  39.370  41.880  38.9500  41.29  36086065  40.3300        39.96   \n",
              "2019-05-16  41.480  44.060  41.2500  43.00  38115524  42.2400        41.29   \n",
              "2019-05-24  41.280  41.510  40.5000  41.51   8786751  41.3950        40.47   \n",
              "2019-05-31  41.150  41.570  39.4100  40.41  23209848  40.7800        39.80   \n",
              "...            ...     ...      ...    ...       ...      ...          ...   \n",
              "2022-09-30  26.160  27.310  26.1600  26.50  23894897  26.3300        26.42   \n",
              "2022-10-03  26.760  26.900  25.9600  26.72  19940791  26.7400        26.50   \n",
              "2022-10-04  27.625  29.250  27.5995  29.19  25462214  28.4075        26.72   \n",
              "2022-10-06  29.200  30.240  28.9600  29.73  25399517  29.4650        29.18   \n",
              "2022-10-12  25.050  26.115  24.5600  25.98  30945853  25.5150        24.66   \n",
              "\n",
              "            percentage change  daily change  percentage_change  daily_change  \n",
              "Date                                                                          \n",
              "2019-05-14           0.077089      0.077089           0.077089      0.077089  \n",
              "2019-05-15           0.033283      0.033283           0.033283      0.033283  \n",
              "2019-05-16           0.041414      0.041414           0.041414      0.041414  \n",
              "2019-05-24           0.025698      0.025698           0.025698      0.025698  \n",
              "2019-05-31           0.015327      0.015327           0.015327      0.015327  \n",
              "...                       ...           ...                ...           ...  \n",
              "2022-09-30           0.003028      0.003028           0.003028      0.003028  \n",
              "2022-10-03           0.008302      0.008302           0.008302      0.008302  \n",
              "2022-10-04           0.092440      0.092440           0.092440      0.092440  \n",
              "2022-10-06           0.018849      0.018849           0.018849      0.018849  \n",
              "2022-10-12           0.053528      0.053528           0.053528      0.053528  \n",
              "\n",
              "[414 rows x 11 columns]"
            ],
            "text/html": [
              "\n",
              "  <div id=\"df-3469bef0-0c18-44a8-858c-baf14c354728\">\n",
              "    <div class=\"colab-df-container\">\n",
              "      <div>\n",
              "<style scoped>\n",
              "    .dataframe tbody tr th:only-of-type {\n",
              "        vertical-align: middle;\n",
              "    }\n",
              "\n",
              "    .dataframe tbody tr th {\n",
              "        vertical-align: top;\n",
              "    }\n",
              "\n",
              "    .dataframe thead th {\n",
              "        text-align: right;\n",
              "    }\n",
              "</style>\n",
              "<table border=\"1\" class=\"dataframe\">\n",
              "  <thead>\n",
              "    <tr style=\"text-align: right;\">\n",
              "      <th></th>\n",
              "      <th>Open</th>\n",
              "      <th>High</th>\n",
              "      <th>Low</th>\n",
              "      <th>Close</th>\n",
              "      <th>Volume</th>\n",
              "      <th>Average</th>\n",
              "      <th>Close_shift</th>\n",
              "      <th>percentage change</th>\n",
              "      <th>daily change</th>\n",
              "      <th>percentage_change</th>\n",
              "      <th>daily_change</th>\n",
              "    </tr>\n",
              "    <tr>\n",
              "      <th>Date</th>\n",
              "      <th></th>\n",
              "      <th></th>\n",
              "      <th></th>\n",
              "      <th></th>\n",
              "      <th></th>\n",
              "      <th></th>\n",
              "      <th></th>\n",
              "      <th></th>\n",
              "      <th></th>\n",
              "      <th></th>\n",
              "      <th></th>\n",
              "    </tr>\n",
              "  </thead>\n",
              "  <tbody>\n",
              "    <tr>\n",
              "      <th>2019-05-14</th>\n",
              "      <td>38.310</td>\n",
              "      <td>39.960</td>\n",
              "      <td>36.8500</td>\n",
              "      <td>39.96</td>\n",
              "      <td>46661147</td>\n",
              "      <td>39.1350</td>\n",
              "      <td>37.10</td>\n",
              "      <td>0.077089</td>\n",
              "      <td>0.077089</td>\n",
              "      <td>0.077089</td>\n",
              "      <td>0.077089</td>\n",
              "    </tr>\n",
              "    <tr>\n",
              "      <th>2019-05-15</th>\n",
              "      <td>39.370</td>\n",
              "      <td>41.880</td>\n",
              "      <td>38.9500</td>\n",
              "      <td>41.29</td>\n",
              "      <td>36086065</td>\n",
              "      <td>40.3300</td>\n",
              "      <td>39.96</td>\n",
              "      <td>0.033283</td>\n",
              "      <td>0.033283</td>\n",
              "      <td>0.033283</td>\n",
              "      <td>0.033283</td>\n",
              "    </tr>\n",
              "    <tr>\n",
              "      <th>2019-05-16</th>\n",
              "      <td>41.480</td>\n",
              "      <td>44.060</td>\n",
              "      <td>41.2500</td>\n",
              "      <td>43.00</td>\n",
              "      <td>38115524</td>\n",
              "      <td>42.2400</td>\n",
              "      <td>41.29</td>\n",
              "      <td>0.041414</td>\n",
              "      <td>0.041414</td>\n",
              "      <td>0.041414</td>\n",
              "      <td>0.041414</td>\n",
              "    </tr>\n",
              "    <tr>\n",
              "      <th>2019-05-24</th>\n",
              "      <td>41.280</td>\n",
              "      <td>41.510</td>\n",
              "      <td>40.5000</td>\n",
              "      <td>41.51</td>\n",
              "      <td>8786751</td>\n",
              "      <td>41.3950</td>\n",
              "      <td>40.47</td>\n",
              "      <td>0.025698</td>\n",
              "      <td>0.025698</td>\n",
              "      <td>0.025698</td>\n",
              "      <td>0.025698</td>\n",
              "    </tr>\n",
              "    <tr>\n",
              "      <th>2019-05-31</th>\n",
              "      <td>41.150</td>\n",
              "      <td>41.570</td>\n",
              "      <td>39.4100</td>\n",
              "      <td>40.41</td>\n",
              "      <td>23209848</td>\n",
              "      <td>40.7800</td>\n",
              "      <td>39.80</td>\n",
              "      <td>0.015327</td>\n",
              "      <td>0.015327</td>\n",
              "      <td>0.015327</td>\n",
              "      <td>0.015327</td>\n",
              "    </tr>\n",
              "    <tr>\n",
              "      <th>...</th>\n",
              "      <td>...</td>\n",
              "      <td>...</td>\n",
              "      <td>...</td>\n",
              "      <td>...</td>\n",
              "      <td>...</td>\n",
              "      <td>...</td>\n",
              "      <td>...</td>\n",
              "      <td>...</td>\n",
              "      <td>...</td>\n",
              "      <td>...</td>\n",
              "      <td>...</td>\n",
              "    </tr>\n",
              "    <tr>\n",
              "      <th>2022-09-30</th>\n",
              "      <td>26.160</td>\n",
              "      <td>27.310</td>\n",
              "      <td>26.1600</td>\n",
              "      <td>26.50</td>\n",
              "      <td>23894897</td>\n",
              "      <td>26.3300</td>\n",
              "      <td>26.42</td>\n",
              "      <td>0.003028</td>\n",
              "      <td>0.003028</td>\n",
              "      <td>0.003028</td>\n",
              "      <td>0.003028</td>\n",
              "    </tr>\n",
              "    <tr>\n",
              "      <th>2022-10-03</th>\n",
              "      <td>26.760</td>\n",
              "      <td>26.900</td>\n",
              "      <td>25.9600</td>\n",
              "      <td>26.72</td>\n",
              "      <td>19940791</td>\n",
              "      <td>26.7400</td>\n",
              "      <td>26.50</td>\n",
              "      <td>0.008302</td>\n",
              "      <td>0.008302</td>\n",
              "      <td>0.008302</td>\n",
              "      <td>0.008302</td>\n",
              "    </tr>\n",
              "    <tr>\n",
              "      <th>2022-10-04</th>\n",
              "      <td>27.625</td>\n",
              "      <td>29.250</td>\n",
              "      <td>27.5995</td>\n",
              "      <td>29.19</td>\n",
              "      <td>25462214</td>\n",
              "      <td>28.4075</td>\n",
              "      <td>26.72</td>\n",
              "      <td>0.092440</td>\n",
              "      <td>0.092440</td>\n",
              "      <td>0.092440</td>\n",
              "      <td>0.092440</td>\n",
              "    </tr>\n",
              "    <tr>\n",
              "      <th>2022-10-06</th>\n",
              "      <td>29.200</td>\n",
              "      <td>30.240</td>\n",
              "      <td>28.9600</td>\n",
              "      <td>29.73</td>\n",
              "      <td>25399517</td>\n",
              "      <td>29.4650</td>\n",
              "      <td>29.18</td>\n",
              "      <td>0.018849</td>\n",
              "      <td>0.018849</td>\n",
              "      <td>0.018849</td>\n",
              "      <td>0.018849</td>\n",
              "    </tr>\n",
              "    <tr>\n",
              "      <th>2022-10-12</th>\n",
              "      <td>25.050</td>\n",
              "      <td>26.115</td>\n",
              "      <td>24.5600</td>\n",
              "      <td>25.98</td>\n",
              "      <td>30945853</td>\n",
              "      <td>25.5150</td>\n",
              "      <td>24.66</td>\n",
              "      <td>0.053528</td>\n",
              "      <td>0.053528</td>\n",
              "      <td>0.053528</td>\n",
              "      <td>0.053528</td>\n",
              "    </tr>\n",
              "  </tbody>\n",
              "</table>\n",
              "<p>414 rows × 11 columns</p>\n",
              "</div>\n",
              "      <button class=\"colab-df-convert\" onclick=\"convertToInteractive('df-3469bef0-0c18-44a8-858c-baf14c354728')\"\n",
              "              title=\"Convert this dataframe to an interactive table.\"\n",
              "              style=\"display:none;\">\n",
              "        \n",
              "  <svg xmlns=\"http://www.w3.org/2000/svg\" height=\"24px\"viewBox=\"0 0 24 24\"\n",
              "       width=\"24px\">\n",
              "    <path d=\"M0 0h24v24H0V0z\" fill=\"none\"/>\n",
              "    <path d=\"M18.56 5.44l.94 2.06.94-2.06 2.06-.94-2.06-.94-.94-2.06-.94 2.06-2.06.94zm-11 1L8.5 8.5l.94-2.06 2.06-.94-2.06-.94L8.5 2.5l-.94 2.06-2.06.94zm10 10l.94 2.06.94-2.06 2.06-.94-2.06-.94-.94-2.06-.94 2.06-2.06.94z\"/><path d=\"M17.41 7.96l-1.37-1.37c-.4-.4-.92-.59-1.43-.59-.52 0-1.04.2-1.43.59L10.3 9.45l-7.72 7.72c-.78.78-.78 2.05 0 2.83L4 21.41c.39.39.9.59 1.41.59.51 0 1.02-.2 1.41-.59l7.78-7.78 2.81-2.81c.8-.78.8-2.07 0-2.86zM5.41 20L4 18.59l7.72-7.72 1.47 1.35L5.41 20z\"/>\n",
              "  </svg>\n",
              "      </button>\n",
              "      \n",
              "  <style>\n",
              "    .colab-df-container {\n",
              "      display:flex;\n",
              "      flex-wrap:wrap;\n",
              "      gap: 12px;\n",
              "    }\n",
              "\n",
              "    .colab-df-convert {\n",
              "      background-color: #E8F0FE;\n",
              "      border: none;\n",
              "      border-radius: 50%;\n",
              "      cursor: pointer;\n",
              "      display: none;\n",
              "      fill: #1967D2;\n",
              "      height: 32px;\n",
              "      padding: 0 0 0 0;\n",
              "      width: 32px;\n",
              "    }\n",
              "\n",
              "    .colab-df-convert:hover {\n",
              "      background-color: #E2EBFA;\n",
              "      box-shadow: 0px 1px 2px rgba(60, 64, 67, 0.3), 0px 1px 3px 1px rgba(60, 64, 67, 0.15);\n",
              "      fill: #174EA6;\n",
              "    }\n",
              "\n",
              "    [theme=dark] .colab-df-convert {\n",
              "      background-color: #3B4455;\n",
              "      fill: #D2E3FC;\n",
              "    }\n",
              "\n",
              "    [theme=dark] .colab-df-convert:hover {\n",
              "      background-color: #434B5C;\n",
              "      box-shadow: 0px 1px 3px 1px rgba(0, 0, 0, 0.15);\n",
              "      filter: drop-shadow(0px 1px 2px rgba(0, 0, 0, 0.3));\n",
              "      fill: #FFFFFF;\n",
              "    }\n",
              "  </style>\n",
              "\n",
              "      <script>\n",
              "        const buttonEl =\n",
              "          document.querySelector('#df-3469bef0-0c18-44a8-858c-baf14c354728 button.colab-df-convert');\n",
              "        buttonEl.style.display =\n",
              "          google.colab.kernel.accessAllowed ? 'block' : 'none';\n",
              "\n",
              "        async function convertToInteractive(key) {\n",
              "          const element = document.querySelector('#df-3469bef0-0c18-44a8-858c-baf14c354728');\n",
              "          const dataTable =\n",
              "            await google.colab.kernel.invokeFunction('convertToInteractive',\n",
              "                                                     [key], {});\n",
              "          if (!dataTable) return;\n",
              "\n",
              "          const docLinkHtml = 'Like what you see? Visit the ' +\n",
              "            '<a target=\"_blank\" href=https://colab.research.google.com/notebooks/data_table.ipynb>data table notebook</a>'\n",
              "            + ' to learn more about interactive tables.';\n",
              "          element.innerHTML = '';\n",
              "          dataTable['output_type'] = 'display_data';\n",
              "          await google.colab.output.renderOutput(dataTable, element);\n",
              "          const docLink = document.createElement('div');\n",
              "          docLink.innerHTML = docLinkHtml;\n",
              "          element.appendChild(docLink);\n",
              "        }\n",
              "      </script>\n",
              "    </div>\n",
              "  </div>\n",
              "  "
            ]
          },
          "metadata": {},
          "execution_count": 22
        }
      ]
    },
    {
      "cell_type": "code",
      "source": [
        "# London bike dataset\n"
      ],
      "metadata": {
        "id": "-SOvYZkceuDI"
      },
      "execution_count": null,
      "outputs": []
    }
  ]
}