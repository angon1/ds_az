{
  "nbformat": 4,
  "nbformat_minor": 0,
  "metadata": {
    "colab": {
      "provenance": [],
      "authorship_tag": "ABX9TyNkI8BR+5qsEVP++Ld7vN2L",
      "include_colab_link": true
    },
    "kernelspec": {
      "name": "python3",
      "display_name": "Python 3"
    },
    "language_info": {
      "name": "python"
    }
  },
  "cells": [
    {
      "cell_type": "markdown",
      "metadata": {
        "id": "view-in-github",
        "colab_type": "text"
      },
      "source": [
        "<a href=\"https://colab.research.google.com/github/angon1/ds_az/blob/main/pandas/01_pandas_intro.ipynb\" target=\"_parent\"><img src=\"https://colab.research.google.com/assets/colab-badge.svg\" alt=\"Open In Colab\"/></a>"
      ]
    },
    {
      "cell_type": "code",
      "execution_count": 8,
      "metadata": {
        "colab": {
          "base_uri": "https://localhost:8080/",
          "height": 35
        },
        "id": "U0qFCt3hybYz",
        "outputId": "9c7c200e-05da-4097-e15f-078bf393353e"
      },
      "outputs": [
        {
          "output_type": "execute_result",
          "data": {
            "text/plain": [
              "'1.3.5'"
            ],
            "application/vnd.google.colaboratory.intrinsic+json": {
              "type": "string"
            }
          },
          "metadata": {},
          "execution_count": 8
        }
      ],
      "source": [
        "import string\n",
        "import numpy as np\n",
        "import pandas as pd\n",
        "pd.__version__\n"
      ]
    },
    {
      "cell_type": "code",
      "source": [
        "s = pd.Series(data=[3,np.nan,4,6])\n",
        "s"
      ],
      "metadata": {
        "colab": {
          "base_uri": "https://localhost:8080/"
        },
        "id": "l2n6o4f7ypV5",
        "outputId": "0399b2a8-8cb4-4b1b-e54d-b9e6f24714a8"
      },
      "execution_count": 15,
      "outputs": [
        {
          "output_type": "execute_result",
          "data": {
            "text/plain": [
              "0    3.0\n",
              "1    NaN\n",
              "2    4.0\n",
              "3    6.0\n",
              "dtype: float64"
            ]
          },
          "metadata": {},
          "execution_count": 15
        }
      ]
    },
    {
      "cell_type": "code",
      "source": [
        "s = pd.Series(data=np.arange(10), index = [c for c in string.ascii_lowercase[:10]], name='indexy literowe')\n",
        "s"
      ],
      "metadata": {
        "colab": {
          "base_uri": "https://localhost:8080/"
        },
        "id": "POvyxCUBy_In",
        "outputId": "b9c1bbef-5609-4163-a414-e9f70406e64a"
      },
      "execution_count": 17,
      "outputs": [
        {
          "output_type": "execute_result",
          "data": {
            "text/plain": [
              "a    0\n",
              "b    1\n",
              "c    2\n",
              "d    3\n",
              "e    4\n",
              "f    5\n",
              "g    6\n",
              "h    7\n",
              "i    8\n",
              "j    9\n",
              "Name: indexy literowe, dtype: int64"
            ]
          },
          "metadata": {},
          "execution_count": 17
        }
      ]
    },
    {
      "cell_type": "code",
      "source": [
        "s = pd.Series(data=[True,False,False])"
      ],
      "metadata": {
        "id": "n6sBmxdnzjIW"
      },
      "execution_count": 16,
      "outputs": []
    },
    {
      "cell_type": "code",
      "source": [
        "from pandas.core.frame import Frequency\n",
        "s = pd.Series(data=np.arange(15), index= pd.date_range(start='20220101',periods=15, freq='M'), name='indexy literowe')\n",
        "s"
      ],
      "metadata": {
        "colab": {
          "base_uri": "https://localhost:8080/"
        },
        "id": "O0sEG66N0UBH",
        "outputId": "3894e706-356f-4e15-f10f-5d1c171b25ae"
      },
      "execution_count": 23,
      "outputs": [
        {
          "output_type": "execute_result",
          "data": {
            "text/plain": [
              "2022-01-31     0\n",
              "2022-02-28     1\n",
              "2022-03-31     2\n",
              "2022-04-30     3\n",
              "2022-05-31     4\n",
              "2022-06-30     5\n",
              "2022-07-31     6\n",
              "2022-08-31     7\n",
              "2022-09-30     8\n",
              "2022-10-31     9\n",
              "2022-11-30    10\n",
              "2022-12-31    11\n",
              "2023-01-31    12\n",
              "2023-02-28    13\n",
              "2023-03-31    14\n",
              "Freq: M, Name: indexy literowe, dtype: int64"
            ]
          },
          "metadata": {},
          "execution_count": 23
        }
      ]
    },
    {
      "cell_type": "code",
      "source": [
        "s= pd.Series(data=['python', 'java', 'cpp'], index= pd.date_range(start='20220101',periods=3), name='language')\n",
        "s"
      ],
      "metadata": {
        "colab": {
          "base_uri": "https://localhost:8080/"
        },
        "id": "zaLZpmqD0gpv",
        "outputId": "65750981-d6bc-487c-be8e-18ff5669b293"
      },
      "execution_count": 26,
      "outputs": [
        {
          "output_type": "execute_result",
          "data": {
            "text/plain": [
              "2022-01-01    python\n",
              "2022-01-02      java\n",
              "2022-01-03       cpp\n",
              "Freq: D, Name: language, dtype: object"
            ]
          },
          "metadata": {},
          "execution_count": 26
        }
      ]
    },
    {
      "cell_type": "code",
      "source": [
        "s['20220102']"
      ],
      "metadata": {
        "colab": {
          "base_uri": "https://localhost:8080/",
          "height": 35
        },
        "id": "8I8zmUhk1Zbn",
        "outputId": "02b31fa6-0381-426e-9ea3-a326e7d85531"
      },
      "execution_count": 27,
      "outputs": [
        {
          "output_type": "execute_result",
          "data": {
            "text/plain": [
              "'java'"
            ],
            "application/vnd.google.colaboratory.intrinsic+json": {
              "type": "string"
            }
          },
          "metadata": {},
          "execution_count": 27
        }
      ]
    },
    {
      "cell_type": "code",
      "source": [
        "data_dict = {'Apple': 200, 'CD Project': 600, 'Amazon': 1900}\n",
        "price = pd.Series(data_dict)\n",
        "price"
      ],
      "metadata": {
        "colab": {
          "base_uri": "https://localhost:8080/"
        },
        "id": "6FjOc7xn1oZY",
        "outputId": "5c459dff-e825-4681-949f-3d8d949f6246"
      },
      "execution_count": 28,
      "outputs": [
        {
          "output_type": "execute_result",
          "data": {
            "text/plain": [
              "Apple          200\n",
              "CD Project     600\n",
              "Amazon        1900\n",
              "dtype: int64"
            ]
          },
          "metadata": {},
          "execution_count": 28
        }
      ]
    },
    {
      "cell_type": "code",
      "source": [
        " "
      ],
      "metadata": {
        "id": "mqHex2M724-h"
      },
      "execution_count": null,
      "outputs": []
    }
  ]
}