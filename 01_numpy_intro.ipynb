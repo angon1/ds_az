{
  "nbformat": 4,
  "nbformat_minor": 0,
  "metadata": {
    "colab": {
      "provenance": [],
      "collapsed_sections": [],
      "authorship_tag": "ABX9TyM0Oule0sU3JaVE2vib5loQ",
      "include_colab_link": true
    },
    "kernelspec": {
      "name": "python3",
      "display_name": "Python 3"
    },
    "language_info": {
      "name": "python"
    }
  },
  "cells": [
    {
      "cell_type": "markdown",
      "metadata": {
        "id": "view-in-github",
        "colab_type": "text"
      },
      "source": [
        "<a href=\"https://colab.research.google.com/github/angon1/ds_az/blob/main/01_numpy_intro.ipynb\" target=\"_parent\"><img src=\"https://colab.research.google.com/assets/colab-badge.svg\" alt=\"Open In Colab\"/></a>"
      ]
    },
    {
      "cell_type": "code",
      "execution_count": null,
      "metadata": {
        "id": "mcZHdBX1kQBD"
      },
      "outputs": [],
      "source": [
        "import numpy as np\n",
        "np.__version__\n"
      ]
    },
    {
      "cell_type": "code",
      "source": [
        "example_array= np.array([1,2,3,4,5])\n",
        "print(example_array)\n",
        "type(example_array)\n",
        "print(\n",
        "    example_array.ndim, \"\\n\",\n",
        "    example_array.shape,\"\\n\",\n",
        "    example_array.size, \"\\n\",\n",
        "    example_array.dtype,\"\\n\",\n",
        "  )\n",
        "\n"
      ],
      "metadata": {
        "id": "-RjSru7NnWK-"
      },
      "execution_count": null,
      "outputs": []
    },
    {
      "cell_type": "markdown",
      "source": [
        "2d array"
      ],
      "metadata": {
        "id": "BqJNbskeo3WO"
      }
    },
    {
      "cell_type": "code",
      "source": [
        "row_1, row_2 = [1,2], [-2,-1]\n",
        "ar_2d = np.array([row_1, row_2])"
      ],
      "metadata": {
        "id": "SPMR_uYBn3aW"
      },
      "execution_count": 13,
      "outputs": []
    },
    {
      "cell_type": "code",
      "source": [
        "print(ar_2d.shape)"
      ],
      "metadata": {
        "id": "4unwAg0YpL3e"
      },
      "execution_count": null,
      "outputs": []
    },
    {
      "cell_type": "code",
      "source": [
        "row_1, row_2 = [1,2, 7, 2], [-2,-1, 1, 3]\n",
        "ar_2d = np.array([row_1, row_2])\n",
        "print(ar_2d.shape)\n",
        "print(ar_2d)"
      ],
      "metadata": {
        "id": "eGiMQM7tpjXm"
      },
      "execution_count": null,
      "outputs": []
    },
    {
      "cell_type": "code",
      "source": [
        "print(ar_2d[0][3])"
      ],
      "metadata": {
        "id": "2jAjvaiTpzQG"
      },
      "execution_count": null,
      "outputs": []
    },
    {
      "cell_type": "markdown",
      "source": [
        "3d array"
      ],
      "metadata": {
        "id": "9ptWiQQZp78e"
      }
    },
    {
      "cell_type": "code",
      "source": [
        "list_1, list_2 = [1,2,3], [4,5,6]\n",
        "nested_list_1 = [list_1, list_2]\n",
        "nested_list_2 = [list_2, list_1]\n",
        "list_nested_nested = [nested_list_1, nested_list_2]\n",
        "arr_3d = np.array(list_nested_nested)\n",
        "print(arr_3d)"
      ],
      "metadata": {
        "colab": {
          "base_uri": "https://localhost:8080/"
        },
        "id": "qdCNeD9_qJ11",
        "outputId": "2d85bc5c-1573-40c6-e4df-192587091cc2"
      },
      "execution_count": 20,
      "outputs": [
        {
          "output_type": "stream",
          "name": "stdout",
          "text": [
            "[[[1 2 3]\n",
            "  [4 5 6]]\n",
            "\n",
            " [[4 5 6]\n",
            "  [1 2 3]]]\n"
          ]
        }
      ]
    },
    {
      "cell_type": "code",
      "source": [
        "arr_3d"
      ],
      "metadata": {
        "colab": {
          "base_uri": "https://localhost:8080/"
        },
        "id": "CiM8cZGkqsJP",
        "outputId": "79437229-c99e-46c3-ccf4-4cb78ca7555b"
      },
      "execution_count": 21,
      "outputs": [
        {
          "output_type": "execute_result",
          "data": {
            "text/plain": [
              "array([[[1, 2, 3],\n",
              "        [4, 5, 6]],\n",
              "\n",
              "       [[4, 5, 6],\n",
              "        [1, 2, 3]]])"
            ]
          },
          "metadata": {},
          "execution_count": 21
        }
      ]
    },
    {
      "cell_type": "code",
      "source": [
        "# get 2 from arr_3d\n",
        "print(arr_3d[0][0][1])\n",
        "#get another 2\n",
        "print(arr_3d[1][1][1])"
      ],
      "metadata": {
        "colab": {
          "base_uri": "https://localhost:8080/"
        },
        "id": "XAj8wBT9quS_",
        "outputId": "53796ff8-637e-4d7f-893d-2700bd938724"
      },
      "execution_count": 22,
      "outputs": [
        {
          "output_type": "stream",
          "name": "stdout",
          "text": [
            "2\n",
            "2\n"
          ]
        }
      ]
    }
  ]
}