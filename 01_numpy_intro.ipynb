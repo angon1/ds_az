{
  "nbformat": 4,
  "nbformat_minor": 0,
  "metadata": {
    "colab": {
      "provenance": [],
      "collapsed_sections": [],
      "authorship_tag": "ABX9TyP/RmATzGXGAsnbc1QRrqeS",
      "include_colab_link": true
    },
    "kernelspec": {
      "name": "python3",
      "display_name": "Python 3"
    },
    "language_info": {
      "name": "python"
    }
  },
  "cells": [
    {
      "cell_type": "markdown",
      "metadata": {
        "id": "view-in-github",
        "colab_type": "text"
      },
      "source": [
        "<a href=\"https://colab.research.google.com/github/angon1/ds_az/blob/main/01_numpy_intro.ipynb\" target=\"_parent\"><img src=\"https://colab.research.google.com/assets/colab-badge.svg\" alt=\"Open In Colab\"/></a>"
      ]
    },
    {
      "cell_type": "code",
      "execution_count": 3,
      "metadata": {
        "id": "mcZHdBX1kQBD",
        "colab": {
          "base_uri": "https://localhost:8080/",
          "height": 35
        },
        "outputId": "7781d188-eb49-422a-fa91-197b7177778f"
      },
      "outputs": [
        {
          "output_type": "execute_result",
          "data": {
            "text/plain": [
              "'1.21.6'"
            ],
            "application/vnd.google.colaboratory.intrinsic+json": {
              "type": "string"
            }
          },
          "metadata": {},
          "execution_count": 3
        }
      ],
      "source": [
        "import numpy as np\n",
        "np.__version__\n"
      ]
    },
    {
      "cell_type": "code",
      "source": [
        "example_array= np.array([1,2,3,4,5])\n",
        "print(example_array)\n",
        "type(example_array)\n",
        "print(\n",
        "    example_array.ndim, \"\\n\",\n",
        "    example_array.shape,\"\\n\",\n",
        "    example_array.size, \"\\n\",\n",
        "    example_array.dtype,\"\\n\",\n",
        "  )\n",
        "\n"
      ],
      "metadata": {
        "id": "-RjSru7NnWK-"
      },
      "execution_count": null,
      "outputs": []
    },
    {
      "cell_type": "markdown",
      "source": [
        "2d array"
      ],
      "metadata": {
        "id": "BqJNbskeo3WO"
      }
    },
    {
      "cell_type": "code",
      "source": [
        "row_1, row_2 = [1,2], [-2,-1]\n",
        "ar_2d = np.array([row_1, row_2])"
      ],
      "metadata": {
        "id": "SPMR_uYBn3aW"
      },
      "execution_count": null,
      "outputs": []
    },
    {
      "cell_type": "code",
      "source": [
        "print(ar_2d.shape)"
      ],
      "metadata": {
        "id": "4unwAg0YpL3e"
      },
      "execution_count": null,
      "outputs": []
    },
    {
      "cell_type": "code",
      "source": [
        "row_1, row_2 = [1,2, 7, 2], [-2,-1, 1, 3]\n",
        "ar_2d = np.array([row_1, row_2])\n",
        "print(ar_2d.shape)\n",
        "print(ar_2d)"
      ],
      "metadata": {
        "id": "eGiMQM7tpjXm"
      },
      "execution_count": null,
      "outputs": []
    },
    {
      "cell_type": "code",
      "source": [
        "print(ar_2d[0][3])"
      ],
      "metadata": {
        "id": "2jAjvaiTpzQG"
      },
      "execution_count": null,
      "outputs": []
    },
    {
      "cell_type": "markdown",
      "source": [
        "3d array"
      ],
      "metadata": {
        "id": "9ptWiQQZp78e"
      }
    },
    {
      "cell_type": "code",
      "source": [
        "list_1, list_2 = [1,2,3], [4,5,6]\n",
        "nested_list_1 = [list_1, list_2, list_1]\n",
        "nested_list_2 = [list_2, list_1, list_2]\n",
        "list_nested_nested = [nested_list_1, nested_list_2]\n",
        "arr_3d = np.array(list_nested_nested)\n",
        "print(arr_3d)"
      ],
      "metadata": {
        "colab": {
          "base_uri": "https://localhost:8080/"
        },
        "id": "qdCNeD9_qJ11",
        "outputId": "8275d91e-f655-4e21-88a0-126c36bb8911"
      },
      "execution_count": null,
      "outputs": [
        {
          "output_type": "stream",
          "name": "stdout",
          "text": [
            "[[[1 2 3]\n",
            "  [4 5 6]\n",
            "  [1 2 3]]\n",
            "\n",
            " [[4 5 6]\n",
            "  [1 2 3]\n",
            "  [4 5 6]]]\n"
          ]
        }
      ]
    },
    {
      "cell_type": "code",
      "source": [
        "arr_3d"
      ],
      "metadata": {
        "colab": {
          "base_uri": "https://localhost:8080/"
        },
        "id": "CiM8cZGkqsJP",
        "outputId": "7b1bf312-aabd-40c7-ad0f-f66c4846ef0d"
      },
      "execution_count": null,
      "outputs": [
        {
          "output_type": "execute_result",
          "data": {
            "text/plain": [
              "array([[[1, 2, 3],\n",
              "        [4, 5, 6],\n",
              "        [1, 2, 3]],\n",
              "\n",
              "       [[4, 5, 6],\n",
              "        [1, 2, 3],\n",
              "        [4, 5, 6]]])"
            ]
          },
          "metadata": {},
          "execution_count": 24
        }
      ]
    },
    {
      "cell_type": "code",
      "source": [
        "# get 3 from arr_3d\n",
        "print(arr_3d[0][2][2])\n",
        "#get 6 from second value\n",
        "print(arr_3d[1][0][2])"
      ],
      "metadata": {
        "id": "XAj8wBT9quS_"
      },
      "execution_count": null,
      "outputs": []
    },
    {
      "cell_type": "markdown",
      "source": [
        "Mnożenie macierzy"
      ],
      "metadata": {
        "id": "L-Q4982y71ye"
      }
    },
    {
      "cell_type": "code",
      "source": [
        "x = np.array([[1,2], [-3,0]])\n",
        "y = np.array([[6,2], [-1,8]])\n",
        "np.dot(x,y)"
      ],
      "metadata": {
        "id": "9RCK-MEc74Bu"
      },
      "execution_count": null,
      "outputs": []
    },
    {
      "cell_type": "code",
      "source": [
        "# Generowanie list pseudolosowych\n",
        "np.random.seed(0)\n",
        "\n",
        "print(np.random.randn())\n",
        "print(np.random.randn())\n",
        "print(np.random.randn())\n"
      ],
      "metadata": {
        "id": "H0e7pGw-8_J3"
      },
      "execution_count": null,
      "outputs": []
    },
    {
      "cell_type": "code",
      "source": [
        "np.random.randn(4,10)"
      ],
      "metadata": {
        "id": "yNeSPoR29Lrf"
      },
      "execution_count": null,
      "outputs": []
    },
    {
      "cell_type": "code",
      "source": [
        "np.random.randn(10,4)"
      ],
      "metadata": {
        "id": "njE3-T2u9YMu"
      },
      "execution_count": null,
      "outputs": []
    },
    {
      "cell_type": "code",
      "source": [
        "np.random.rand(10,2,3)"
      ],
      "metadata": {
        "id": "TTOVKKWL9eL2"
      },
      "execution_count": null,
      "outputs": []
    },
    {
      "cell_type": "code",
      "source": [
        "arr_1 = np.arange(20)\n",
        "arr_1\n"
      ],
      "metadata": {
        "id": "U2hKANqe9odn",
        "colab": {
          "base_uri": "https://localhost:8080/"
        },
        "outputId": "a6438a4f-3c7f-4bba-dd7f-d82bb8d59e99"
      },
      "execution_count": 5,
      "outputs": [
        {
          "output_type": "execute_result",
          "data": {
            "text/plain": [
              "array([ 0,  1,  2,  3,  4,  5,  6,  7,  8,  9, 10, 11, 12, 13, 14, 15, 16,\n",
              "       17, 18, 19])"
            ]
          },
          "metadata": {},
          "execution_count": 5
        }
      ]
    },
    {
      "cell_type": "code",
      "source": [
        "arr_1 = arr_1.reshape(4,5)"
      ],
      "metadata": {
        "id": "E_G4SFV8YzXh"
      },
      "execution_count": 6,
      "outputs": []
    },
    {
      "cell_type": "code",
      "source": [
        "arr_1[2][4]"
      ],
      "metadata": {
        "colab": {
          "base_uri": "https://localhost:8080/"
        },
        "id": "YrapJzYVZMWx",
        "outputId": "f2334da7-68fd-4df4-867a-28d91b825c7c"
      },
      "execution_count": 8,
      "outputs": [
        {
          "output_type": "execute_result",
          "data": {
            "text/plain": [
              "14"
            ]
          },
          "metadata": {},
          "execution_count": 8
        }
      ]
    },
    {
      "cell_type": "code",
      "source": [
        "arr_1\n"
      ],
      "metadata": {
        "colab": {
          "base_uri": "https://localhost:8080/"
        },
        "id": "0Nd1VccNZUnZ",
        "outputId": "2ecdd38a-ac04-4c05-ff29-dea66b124bff"
      },
      "execution_count": 9,
      "outputs": [
        {
          "output_type": "execute_result",
          "data": {
            "text/plain": [
              "array([[ 0,  1,  2,  3,  4],\n",
              "       [ 5,  6,  7,  8,  9],\n",
              "       [10, 11, 12, 13, 14],\n",
              "       [15, 16, 17, 18, 19]])"
            ]
          },
          "metadata": {},
          "execution_count": 9
        }
      ]
    },
    {
      "cell_type": "code",
      "source": [
        "# arr wiersz, kolumna\n",
        "arr_1[1:4, 0:3]"
      ],
      "metadata": {
        "colab": {
          "base_uri": "https://localhost:8080/"
        },
        "id": "qbH6i8i5Zku3",
        "outputId": "27534992-6e8f-4ae9-fb69-92bda6090586"
      },
      "execution_count": 13,
      "outputs": [
        {
          "output_type": "execute_result",
          "data": {
            "text/plain": [
              "array([[ 5,  6,  7],\n",
              "       [10, 11, 12],\n",
              "       [15, 16, 17]])"
            ]
          },
          "metadata": {},
          "execution_count": 13
        }
      ]
    },
    {
      "cell_type": "code",
      "source": [
        "arr_1[1,2] =999\n",
        "arr_1\n"
      ],
      "metadata": {
        "colab": {
          "base_uri": "https://localhost:8080/"
        },
        "id": "d1VvPlHUZiQx",
        "outputId": "d0de6603-f087-496b-e019-48f6487819ad"
      },
      "execution_count": 14,
      "outputs": [
        {
          "output_type": "execute_result",
          "data": {
            "text/plain": [
              "array([[  0,   1,   2,   3,   4],\n",
              "       [  5,   6, 999,   8,   9],\n",
              "       [ 10,  11,  12,  13,  14],\n",
              "       [ 15,  16,  17,  18,  19]])"
            ]
          },
          "metadata": {},
          "execution_count": 14
        }
      ]
    },
    {
      "cell_type": "code",
      "source": [
        "# zmiana rozmiaru\n",
        "arr_1.reshape(5,4)"
      ],
      "metadata": {
        "colab": {
          "base_uri": "https://localhost:8080/"
        },
        "id": "Ujn13pkNamLJ",
        "outputId": "4b824846-692b-4d40-ca7f-e11dcd01a9d0"
      },
      "execution_count": 15,
      "outputs": [
        {
          "output_type": "execute_result",
          "data": {
            "text/plain": [
              "array([[  0,   1,   2,   3],\n",
              "       [  4,   5,   6, 999],\n",
              "       [  8,   9,  10,  11],\n",
              "       [ 12,  13,  14,  15],\n",
              "       [ 16,  17,  18,  19]])"
            ]
          },
          "metadata": {},
          "execution_count": 15
        }
      ]
    },
    {
      "cell_type": "code",
      "source": [
        "# wypłaszczenie\n",
        "arr_1.ravel()"
      ],
      "metadata": {
        "colab": {
          "base_uri": "https://localhost:8080/"
        },
        "id": "R_kheDybawDh",
        "outputId": "5c887a70-b3c9-47b3-fb15-1d17e47841ae"
      },
      "execution_count": 16,
      "outputs": [
        {
          "output_type": "execute_result",
          "data": {
            "text/plain": [
              "array([  0,   1,   2,   3,   4,   5,   6, 999,   8,   9,  10,  11,  12,\n",
              "        13,  14,  15,  16,  17,  18,  19])"
            ]
          },
          "metadata": {},
          "execution_count": 16
        }
      ]
    },
    {
      "cell_type": "code",
      "source": [
        "# transpozycja macierzy\n",
        "arr_1.T"
      ],
      "metadata": {
        "colab": {
          "base_uri": "https://localhost:8080/"
        },
        "id": "zLOzVOJ7a2rJ",
        "outputId": "9ec90217-44d6-4881-846a-82e18a66ef80"
      },
      "execution_count": 17,
      "outputs": [
        {
          "output_type": "execute_result",
          "data": {
            "text/plain": [
              "array([[  0,   5,  10,  15],\n",
              "       [  1,   6,  11,  16],\n",
              "       [  2, 999,  12,  17],\n",
              "       [  3,   8,  13,  18],\n",
              "       [  4,   9,  14,  19]])"
            ]
          },
          "metadata": {},
          "execution_count": 17
        }
      ]
    },
    {
      "cell_type": "code",
      "source": [
        "arr_2 = np.arange(start=-10, stop=10, step=0.5)\n",
        "arr_2 = arr_2.reshape(10,-1)\n",
        "arr_2"
      ],
      "metadata": {
        "colab": {
          "base_uri": "https://localhost:8080/"
        },
        "id": "9IN6jeJ3bFoB",
        "outputId": "6ea6f080-1bcd-4ca4-a425-afc1f45c0de2"
      },
      "execution_count": 22,
      "outputs": [
        {
          "output_type": "execute_result",
          "data": {
            "text/plain": [
              "array([[-10. ,  -9.5,  -9. ,  -8.5],\n",
              "       [ -8. ,  -7.5,  -7. ,  -6.5],\n",
              "       [ -6. ,  -5.5,  -5. ,  -4.5],\n",
              "       [ -4. ,  -3.5,  -3. ,  -2.5],\n",
              "       [ -2. ,  -1.5,  -1. ,  -0.5],\n",
              "       [  0. ,   0.5,   1. ,   1.5],\n",
              "       [  2. ,   2.5,   3. ,   3.5],\n",
              "       [  4. ,   4.5,   5. ,   5.5],\n",
              "       [  6. ,   6.5,   7. ,   7.5],\n",
              "       [  8. ,   8.5,   9. ,   9.5]])"
            ]
          },
          "metadata": {},
          "execution_count": 22
        }
      ]
    },
    {
      "cell_type": "code",
      "source": [
        "mask_bigger_then_0 = arr_2 > 0\n"
      ],
      "metadata": {
        "id": "oWm0UxfGbTsx"
      },
      "execution_count": 24,
      "outputs": []
    },
    {
      "cell_type": "code",
      "source": [
        "arr_2[mask_bigger_then_0]"
      ],
      "metadata": {
        "colab": {
          "base_uri": "https://localhost:8080/"
        },
        "id": "gHUc5_tfbkWC",
        "outputId": "af891e26-5fea-4d47-a819-250ea5586a1e"
      },
      "execution_count": 25,
      "outputs": [
        {
          "output_type": "execute_result",
          "data": {
            "text/plain": [
              "array([0.5, 1. , 1.5, 2. , 2.5, 3. , 3.5, 4. , 4.5, 5. , 5.5, 6. , 6.5,\n",
              "       7. , 7.5, 8. , 8.5, 9. , 9.5])"
            ]
          },
          "metadata": {},
          "execution_count": 25
        }
      ]
    },
    {
      "cell_type": "code",
      "source": [
        "np.bitwise_and(arr_2 > -5, arr_2 < 5)"
      ],
      "metadata": {
        "colab": {
          "base_uri": "https://localhost:8080/"
        },
        "id": "6MiQwwrXbudK",
        "outputId": "6242421e-38ad-43ab-b1b5-86ea9952458b"
      },
      "execution_count": 26,
      "outputs": [
        {
          "output_type": "execute_result",
          "data": {
            "text/plain": [
              "array([[False, False, False, False],\n",
              "       [False, False, False, False],\n",
              "       [False, False, False,  True],\n",
              "       [ True,  True,  True,  True],\n",
              "       [ True,  True,  True,  True],\n",
              "       [ True,  True,  True,  True],\n",
              "       [ True,  True,  True,  True],\n",
              "       [ True,  True, False, False],\n",
              "       [False, False, False, False],\n",
              "       [False, False, False, False]])"
            ]
          },
          "metadata": {},
          "execution_count": 26
        }
      ]
    },
    {
      "cell_type": "code",
      "source": [
        "arr_2[np.bitwise_and(arr_2 > -5, arr_2 < 5)]"
      ],
      "metadata": {
        "colab": {
          "base_uri": "https://localhost:8080/"
        },
        "id": "oSTs5qKNb6GC",
        "outputId": "38f5c85a-6240-4180-f835-e1f306aac77e"
      },
      "execution_count": 27,
      "outputs": [
        {
          "output_type": "execute_result",
          "data": {
            "text/plain": [
              "array([-4.5, -4. , -3.5, -3. , -2.5, -2. , -1.5, -1. , -0.5,  0. ,  0.5,\n",
              "        1. ,  1.5,  2. ,  2.5,  3. ,  3.5,  4. ,  4.5])"
            ]
          },
          "metadata": {},
          "execution_count": 27
        }
      ]
    },
    {
      "cell_type": "code",
      "source": [],
      "metadata": {
        "id": "mnKBhs3ub_qh"
      },
      "execution_count": null,
      "outputs": []
    }
  ]
}